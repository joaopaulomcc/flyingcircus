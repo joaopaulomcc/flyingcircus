{
 "cells": [
  {
   "cell_type": "markdown",
   "metadata": {},
   "source": [
    "# Master Branch Performance Tests - mesh"
   ]
  },
  {
   "cell_type": "code",
   "execution_count": 3,
   "metadata": {},
   "outputs": [],
   "source": [
    "import numpy as np\n",
    "import scipy as sc\n",
    "import matplotlib.pyplot as plt\n",
    "\n",
    "from numpy import sin, cos, tan, pi, dot, cross\n",
    "from numpy.linalg import norm\n",
    "\n",
    "from context import src\n",
    "from src import basic_objects\n",
    "from src import mesh"
   ]
  },
  {
   "cell_type": "markdown",
   "metadata": {},
   "source": [
    "## generate_mesh"
   ]
  },
  {
   "cell_type": "code",
   "execution_count": 4,
   "metadata": {},
   "outputs": [],
   "source": [
    "area = 20\n",
    "aspect_ratio = 7\n",
    "taper_ratio = 0.66\n",
    "sweep_quarter_chord = 27\n",
    "dihedral = 13\n",
    "incidence = 0\n",
    "torsion = 0\n",
    "position = [0, 0, 0]\n",
    "\n",
    "wing = basic_objects.Wing(area, aspect_ratio, taper_ratio, sweep_quarter_chord, dihedral,\n",
    "                              incidence, torsion, position)\n",
    "\n",
    "n_semi_wingspam_panels = 500\n",
    "n_chord_panels = 100\n",
    "wingspam_discretization_type = \"cos\"\n",
    "chord_discretization_type = \"cos\""
   ]
  },
  {
   "cell_type": "code",
   "execution_count": 5,
   "metadata": {},
   "outputs": [
    {
     "name": "stdout",
     "output_type": "stream",
     "text": [
      "7.27 ms ± 532 µs per loop (mean ± std. dev. of 7 runs, 100 loops each)\n"
     ]
    }
   ],
   "source": [
    "%%timeit\n",
    "xx, yy, zz = mesh.generate_mesh(wing, n_semi_wingspam_panels, n_chord_panels,\n",
    "                                    wingspam_discretization_type, chord_discretization_type)"
   ]
  },
  {
   "cell_type": "markdown",
   "metadata": {},
   "source": [
    "## generate_panel_matrix"
   ]
  },
  {
   "cell_type": "code",
   "execution_count": 6,
   "metadata": {},
   "outputs": [],
   "source": [
    "xx, yy, zz = mesh.generate_mesh(wing, n_semi_wingspam_panels, n_chord_panels,\n",
    "                                    wingspam_discretization_type, chord_discretization_type)"
   ]
  },
  {
   "cell_type": "code",
   "execution_count": 7,
   "metadata": {},
   "outputs": [
    {
     "name": "stdout",
     "output_type": "stream",
     "text": [
      "25.8 s ± 185 ms per loop (mean ± std. dev. of 7 runs, 1 loop each)\n"
     ]
    }
   ],
   "source": [
    "%%timeit\n",
    "panel_matrix = mesh.generate_panel_matrix(xx, yy, zz)"
   ]
  },
  {
   "cell_type": "markdown",
   "metadata": {},
   "source": [
    "## generate_col_points_matrix"
   ]
  },
  {
   "cell_type": "code",
   "execution_count": 8,
   "metadata": {},
   "outputs": [
    {
     "name": "stdout",
     "output_type": "stream",
     "text": [
      "26 s ± 313 ms per loop (mean ± std. dev. of 7 runs, 1 loop each)\n"
     ]
    }
   ],
   "source": [
    "%%timeit\n",
    "col_points_matrix_xx, col_points_matrix_yy, col_points_matrix_zz = mesh.generate_col_points_matrix(xx,\n",
    "    yy, zz)"
   ]
  }
 ],
 "metadata": {
  "kernelspec": {
   "display_name": "Python 3",
   "language": "python",
   "name": "python3"
  },
  "language_info": {
   "codemirror_mode": {
    "name": "ipython",
    "version": 3
   },
   "file_extension": ".py",
   "mimetype": "text/x-python",
   "name": "python",
   "nbconvert_exporter": "python",
   "pygments_lexer": "ipython3",
   "version": "3.6.6"
  }
 },
 "nbformat": 4,
 "nbformat_minor": 2
}
