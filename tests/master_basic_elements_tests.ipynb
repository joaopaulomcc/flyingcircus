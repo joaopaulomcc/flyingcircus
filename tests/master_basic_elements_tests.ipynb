{
 "cells": [
  {
   "cell_type": "markdown",
   "metadata": {},
   "source": [
    "# Master Branch Performance Tests - basic_elements"
   ]
  },
  {
   "cell_type": "code",
   "execution_count": 4,
   "metadata": {},
   "outputs": [],
   "source": [
    "import numpy as np\n",
    "import scipy as sc\n",
    "import matplotlib.pyplot as plt\n",
    "\n",
    "from numpy import sin, cos, tan, pi, dot, cross\n",
    "from numpy.linalg import norm\n",
    "\n",
    "from context import src\n",
    "from src import basic_elements"
   ]
  },
  {
   "cell_type": "markdown",
   "metadata": {},
   "source": [
    "## vortex_segment"
   ]
  },
  {
   "cell_type": "code",
   "execution_count": 2,
   "metadata": {},
   "outputs": [
    {
     "data": {
      "text/plain": [
       "(array([0.77770241, 0.23754122, 0.82427853]),\n",
       " array([0.9657492 , 0.97260111, 0.45344925]),\n",
       " array([0.60904246, 0.77552651, 0.64161334]),\n",
       " 13)"
      ]
     },
     "execution_count": 2,
     "metadata": {},
     "output_type": "execute_result"
    }
   ],
   "source": [
    "np.random.seed(13)\n",
    "first_point = np.random.rand((3))\n",
    "second_point = np.random.rand((3))\n",
    "target_point = np.random.rand((3))\n",
    "circulation = 13\n",
    "first_point, second_point, target_point, circulation"
   ]
  },
  {
   "cell_type": "code",
   "execution_count": null,
   "metadata": {},
   "outputs": [],
   "source": [
    "%%timeit\n",
    "induced_velocity = basic_elements.vortex_segment(first_point, second_point, target_point, circulation)"
   ]
  },
  {
   "cell_type": "markdown",
   "metadata": {},
   "source": [
    "## vortex_ring"
   ]
  },
  {
   "cell_type": "code",
   "execution_count": 7,
   "metadata": {},
   "outputs": [],
   "source": [
    "vertex_coordinates = np.array([[2, 0, 0],\n",
    "                               [0, 0, 0],\n",
    "                               [0, 2, 0],\n",
    "                               [2, 2, 0]]).transpose()\n",
    "\n",
    "target_point = [1, 1, 0]\n",
    "circulation = 1"
   ]
  },
  {
   "cell_type": "code",
   "execution_count": 8,
   "metadata": {},
   "outputs": [
    {
     "name": "stdout",
     "output_type": "stream",
     "text": [
      "1.3 ms ± 33.7 µs per loop (mean ± std. dev. of 7 runs, 1000 loops each)\n"
     ]
    }
   ],
   "source": [
    "%%timeit\n",
    "induced_velocity = basic_elements.vortex_ring(vertex_coordinates, target_point, circulation)"
   ]
  },
  {
   "cell_type": "markdown",
   "metadata": {},
   "source": [
    "## vortex_horseshoe"
   ]
  },
  {
   "cell_type": "code",
   "execution_count": 12,
   "metadata": {},
   "outputs": [],
   "source": [
    "vertex_coordinates = np.array([[2, 0, 0],\n",
    "                               [0, 0, 0],\n",
    "                               [0, 2, 0],\n",
    "                               [2, 2, 0]]).transpose()\n",
    "\n",
    "target_point = [1, 1, 0]\n",
    "circulation = 1"
   ]
  },
  {
   "cell_type": "code",
   "execution_count": 11,
   "metadata": {},
   "outputs": [
    {
     "name": "stdout",
     "output_type": "stream",
     "text": [
      "946 µs ± 8.68 µs per loop (mean ± std. dev. of 7 runs, 1000 loops each)\n"
     ]
    }
   ],
   "source": [
    "%%timeit\n",
    "induced_velocity, wake_induced_velocity = basic_elements.vortex_horseshoe(vertex_coordinates,\n",
    "                                                                              target_point,\n",
    "                                                                              circulation)"
   ]
  }
 ],
 "metadata": {
  "kernelspec": {
   "display_name": "Python 3",
   "language": "python",
   "name": "python3"
  },
  "language_info": {
   "codemirror_mode": {
    "name": "ipython",
    "version": 3
   },
   "file_extension": ".py",
   "mimetype": "text/x-python",
   "name": "python",
   "nbconvert_exporter": "python",
   "pygments_lexer": "ipython3",
   "version": "3.6.6"
  }
 },
 "nbformat": 4,
 "nbformat_minor": 2
}
