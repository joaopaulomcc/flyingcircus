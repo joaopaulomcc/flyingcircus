{
 "cells": [
  {
   "cell_type": "markdown",
   "metadata": {},
   "source": [
    "# Performance Branch Performance Tests - vortex_lattice_method"
   ]
  },
  {
   "cell_type": "code",
   "execution_count": 1,
   "metadata": {},
   "outputs": [],
   "source": [
    "import numpy as np\n",
    "import scipy as sc\n",
    "import matplotlib.pyplot as plt\n",
    "\n",
    "from numpy import sin, cos, tan, pi, dot, cross\n",
    "from numpy.linalg import norm"
   ]
  },
  {
   "cell_type": "code",
   "execution_count": 2,
   "metadata": {},
   "outputs": [],
   "source": [
    "%load_ext autoreload\n",
    "%autoreload 2"
   ]
  },
  {
   "cell_type": "code",
   "execution_count": 3,
   "metadata": {},
   "outputs": [],
   "source": [
    "from context import flyingcircus\n",
    "from flyingcircus import geometry\n",
    "from flyingcircus import basic_objects\n",
    "from flyingcircus import mesh\n",
    "from flyingcircus import vortex_lattice_method"
   ]
  },
  {
   "cell_type": "markdown",
   "metadata": {},
   "source": [
    "## Data"
   ]
  },
  {
   "cell_type": "code",
   "execution_count": 4,
   "metadata": {},
   "outputs": [],
   "source": [
    "# Geometric information\n",
    "area = 20\n",
    "aspect_ratio = 5\n",
    "taper_ratio = 0.66\n",
    "sweep_quarter_chord = 0\n",
    "dihedral = 5\n",
    "incidence = 0\n",
    "torsion = 0\n",
    "position = [0, 0, 0]\n",
    "\n",
    "# Flight Conditions\n",
    "alpha = 5\n",
    "beta = 0\n",
    "gamma = 0\n",
    "attitude_vector = [alpha, beta, gamma]\n",
    "altitude = 5000\n",
    "\n",
    "true_airspeed = 100\n",
    "flow_velocity_vector = geometry.velocity_vector(true_airspeed, alpha, beta, gamma)[:,0]\n",
    "infinity_mult = 25\n",
    "\n",
    "# Create wing object\n",
    "wing = basic_objects.Wing(area, aspect_ratio, taper_ratio, sweep_quarter_chord, dihedral,\n",
    "                              incidence, torsion, position)\n",
    "infinity = infinity_mult * wing.wing_span\n",
    "\n",
    "# Generate Mesh\n",
    "n_semi_wingspam_panels = 10\n",
    "n_chord_panels = 4\n",
    "wingspam_discretization_type = \"linear\"\n",
    "chord_discretization_type = \"linear\"\n",
    "\n",
    "xx, yy, zz = mesh.generate_mesh(wing, n_semi_wingspam_panels, n_chord_panels,\n",
    "                                    wingspam_discretization_type, chord_discretization_type)\n",
    "\n",
    "# Create Panel Matrix\n",
    "panel_matrix = mesh.generate_panel_matrix(xx, yy, zz, wing.wing_span)"
   ]
  },
  {
   "cell_type": "markdown",
   "metadata": {},
   "source": [
    "## flatten"
   ]
  },
  {
   "cell_type": "code",
   "execution_count": 5,
   "metadata": {},
   "outputs": [
    {
     "name": "stdout",
     "output_type": "stream",
     "text": [
      "2.9 µs ± 185 ns per loop (mean ± std. dev. of 7 runs, 100000 loops each)\n"
     ]
    }
   ],
   "source": [
    "%%timeit\n",
    "panel_vector = vortex_lattice_method.flatten(panel_matrix)"
   ]
  },
  {
   "cell_type": "markdown",
   "metadata": {},
   "source": [
    "## vortex_solver"
   ]
  },
  {
   "cell_type": "code",
   "execution_count": 6,
   "metadata": {},
   "outputs": [],
   "source": [
    "panel_vector = vortex_lattice_method.flatten(panel_matrix)"
   ]
  },
  {
   "cell_type": "code",
   "execution_count": 8,
   "metadata": {},
   "outputs": [
    {
     "name": "stdout",
     "output_type": "stream",
     "text": [
      "58.6 ms ± 4.92 ms per loop (mean ± std. dev. of 7 runs, 1 loop each)\n"
     ]
    }
   ],
   "source": [
    "%%timeit\n",
    "gamma = vortex_lattice_method.vortex_solver(panel_vector, flow_velocity_vector,\n",
    "                                                infinity_mult * wing.wing_span)"
   ]
  },
  {
   "cell_type": "code",
   "execution_count": 14,
   "metadata": {},
   "outputs": [],
   "source": [
    "gamma = vortex_lattice_method.vortex_solver(panel_vector, flow_velocity_vector,\n",
    "                                                infinity_mult * wing.wing_span)"
   ]
  },
  {
   "cell_type": "markdown",
   "metadata": {},
   "source": [
    "## vortex_solver components"
   ]
  },
  {
   "cell_type": "markdown",
   "metadata": {},
   "source": [
    "### right_hand_side vector calculation"
   ]
  },
  {
   "cell_type": "code",
   "execution_count": 7,
   "metadata": {},
   "outputs": [],
   "source": [
    "n_panels = len(panel_vector)\n",
    "influence_coef_matrix = np.zeros((n_panels, n_panels))\n",
    "right_hand_side_vector = np.zeros((n_panels, 1))"
   ]
  },
  {
   "cell_type": "code",
   "execution_count": 10,
   "metadata": {},
   "outputs": [
    {
     "name": "stdout",
     "output_type": "stream",
     "text": [
      "132 µs ± 33.6 µs per loop (mean ± std. dev. of 7 runs, 10000 loops each)\n"
     ]
    }
   ],
   "source": [
    "%%timeit\n",
    "for i in range(n_panels):\n",
    "\n",
    "    right_hand_side_vector[i][0] = dot(-flow_velocity_vector, panel_vector[i].n)"
   ]
  },
  {
   "cell_type": "markdown",
   "metadata": {},
   "source": [
    "### influence_coef_matrix calculation"
   ]
  },
  {
   "cell_type": "code",
   "execution_count": 9,
   "metadata": {},
   "outputs": [
    {
     "name": "stdout",
     "output_type": "stream",
     "text": [
      "50.4 ms ± 2.62 ms per loop (mean ± std. dev. of 7 runs, 10 loops each)\n"
     ]
    }
   ],
   "source": [
    "%%timeit\n",
    "for i in range(n_panels):\n",
    "    \n",
    "    for j in range(n_panels):\n",
    "\n",
    "            ind_vel, _ = panel_vector[j].hs_induced_velocity(panel_vector[i].col_point, 1)\n",
    "            influence_coef_matrix[i][j] = dot(ind_vel, panel_vector[i].n)"
   ]
  },
  {
   "cell_type": "code",
   "execution_count": 11,
   "metadata": {},
   "outputs": [
    {
     "name": "stdout",
     "output_type": "stream",
     "text": [
      "40.2 ms ± 171 µs per loop (mean ± std. dev. of 7 runs, 10 loops each)\n"
     ]
    }
   ],
   "source": [
    "%%timeit\n",
    "for i in range(n_panels):\n",
    "    \n",
    "    for j in range(n_panels):\n",
    "\n",
    "            ind_vel, _ = panel_vector[j].hs_induced_velocity(panel_vector[i].col_point, 1)"
   ]
  },
  {
   "cell_type": "code",
   "execution_count": null,
   "metadata": {},
   "outputs": [],
   "source": []
  },
  {
   "cell_type": "markdown",
   "metadata": {},
   "source": [
    "### linear system solution"
   ]
  },
  {
   "cell_type": "code",
   "execution_count": 12,
   "metadata": {},
   "outputs": [],
   "source": [
    "for i in range(n_panels):\n",
    "\n",
    "    right_hand_side_vector[i][0] = dot(-flow_velocity_vector, panel_vector[i].n)\n",
    "        \n",
    "    for j in range(n_panels):\n",
    "\n",
    "        ind_vel, _ = panel_vector[j].hs_induced_velocity(panel_vector[i].col_point, 1)\n",
    "        influence_coef_matrix[i][j] = dot(ind_vel, panel_vector[i].n)"
   ]
  },
  {
   "cell_type": "code",
   "execution_count": 13,
   "metadata": {},
   "outputs": [
    {
     "name": "stderr",
     "output_type": "stream",
     "text": [
      "c:\\users\\jpmcost\\.virtualenvs\\masters_degree-zojzi3yy\\lib\\site-packages\\ipykernel_launcher.py:1: DeprecationWarning: scipy.sparse.linalg.lgmres called without specifying `atol`. The default value will change in the future. To preserve current behavior, set ``atol=tol``.\n",
      "  \"\"\"Entry point for launching an IPython kernel.\n"
     ]
    },
    {
     "name": "stdout",
     "output_type": "stream",
     "text": [
      "1.52 ms ± 12.9 µs per loop (mean ± std. dev. of 7 runs, 1000 loops each)\n"
     ]
    }
   ],
   "source": [
    "%%timeit\n",
    "gamma, _ = sc.sparse.linalg.lgmres(influence_coef_matrix, right_hand_side_vector)"
   ]
  }
 ],
 "metadata": {
  "kernelspec": {
   "display_name": "Python 3",
   "language": "python",
   "name": "python3"
  },
  "language_info": {
   "codemirror_mode": {
    "name": "ipython",
    "version": 3
   },
   "file_extension": ".py",
   "mimetype": "text/x-python",
   "name": "python",
   "nbconvert_exporter": "python",
   "pygments_lexer": "ipython3",
   "version": "3.6.6"
  }
 },
 "nbformat": 4,
 "nbformat_minor": 2
}
