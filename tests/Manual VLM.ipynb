{
 "cells": [
  {
   "cell_type": "markdown",
   "metadata": {},
   "source": [
    "# TEST"
   ]
  },
  {
   "cell_type": "code",
   "execution_count": 2,
   "metadata": {},
   "outputs": [],
   "source": [
    "import numpy as np\n",
    "\n",
    "from context import src\n",
    "from src import aerodynamics as aero"
   ]
  },
  {
   "cell_type": "code",
   "execution_count": 4,
   "metadata": {},
   "outputs": [],
   "source": [
    "horse_shoes = np.array([[[0.5, -4, 0], [0.5, -2, 0]],\n",
    "                        [[0.5, -2, 0], [0.5, 0, 0]],\n",
    "                        [[0.5, 0, 0],  [0.5, 2, 0]],\n",
    "                        [[0.5, 2, 0],  [0.5, 4, 0]],\n",
    "                        [[8.5, -2, 0], [8.5, 0, 0]],\n",
    "                        [[8.5, 0, 0], [8.5, 2, 0]]])\n",
    "                       \n",
    "col_points = np.array([[1.5, -3, 0], [1.5, -1, 0], [1.5, 1, 0], [1.5, 3, 0], [9.5, -1, 0], [9.5, 1, 0]])"
   ]
  },
  {
   "cell_type": "code",
   "execution_count": 15,
   "metadata": {},
   "outputs": [],
   "source": [
    "inf_coef = np.zeros((6, 6))"
   ]
  },
  {
   "cell_type": "code",
   "execution_count": 16,
   "metadata": {},
   "outputs": [
    {
     "name": "stdout",
     "output_type": "stream",
     "text": [
      "i = 1\n",
      "1 : -0.3842340221311718\n",
      "2 : 0.08170916704279163\n",
      "3 : 0.01333893366257239\n",
      "4 : 0.005315314768202034\n",
      "5 : 0.001525498880046292\n",
      "6 : 0.001309701390315123\n",
      "==============================================\n",
      "i = 2\n",
      "1 : 0.08170916704279163\n",
      "2 : -0.3842340221311718\n",
      "3 : 0.08170916704279163\n",
      "4 : 0.01333893366257239\n",
      "5 : 0.0016158276504450338\n",
      "6 : 0.001525498880046292\n",
      "==============================================\n",
      "i = 3\n",
      "1 : 0.01333893366257239\n",
      "2 : 0.08170916704279163\n",
      "3 : -0.3842340221311718\n",
      "4 : 0.08170916704279163\n",
      "5 : 0.0015254988800462918\n",
      "6 : 0.0016158276504450338\n",
      "==============================================\n",
      "i = 4\n",
      "1 : 0.005315314768202034\n",
      "2 : 0.01333893366257239\n",
      "3 : 0.08170916704279163\n",
      "4 : -0.3842340221311718\n",
      "5 : 0.0013097013903151228\n",
      "6 : 0.0015254988800462918\n",
      "==============================================\n",
      "i = 5\n",
      "1 : 0.10515815799121793\n",
      "2 : -0.3192893104624976\n",
      "3 : 0.10515815799121793\n",
      "4 : 0.020364331495463725\n",
      "5 : -0.3842340221311718\n",
      "6 : 0.08170916704279163\n",
      "==============================================\n",
      "i = 6\n",
      "1 : 0.020364331495463725\n",
      "2 : 0.10515815799121793\n",
      "3 : -0.3192893104624976\n",
      "4 : 0.10515815799121793\n",
      "5 : 0.08170916704279163\n",
      "6 : -0.3842340221311718\n",
      "==============================================\n"
     ]
    }
   ],
   "source": [
    "for i, col_point in enumerate(col_points):\n",
    "    \n",
    "    print(f\"i = {i + 1}\")\n",
    "    \n",
    "    for j, hs in enumerate(horse_shoes):\n",
    "        \n",
    "        point_a = hs[0]\n",
    "        point_b = hs[1]\n",
    "        target_point = col_point\n",
    "        circulation = 1\n",
    "    \n",
    "        ind_velocity = aero.functions.horse_shoe_ind_vel(point_a, point_b, target_point, circulation, vortex_radius=0.001)\n",
    "        inf_coef[i][j] = ind_velocity[2]\n",
    "        print(f\"{j + 1} : {ind_velocity[2]}\")\n",
    "        \n",
    "    \n",
    "    print(\"==============================================\")"
   ]
  },
  {
   "cell_type": "code",
   "execution_count": 17,
   "metadata": {},
   "outputs": [
    {
     "name": "stdout",
     "output_type": "stream",
     "text": [
      "[[-0.38423402  0.08170917  0.01333893  0.00531531  0.0015255   0.0013097 ]\n",
      " [ 0.08170917 -0.38423402  0.08170917  0.01333893  0.00161583  0.0015255 ]\n",
      " [ 0.01333893  0.08170917 -0.38423402  0.08170917  0.0015255   0.00161583]\n",
      " [ 0.00531531  0.01333893  0.08170917 -0.38423402  0.0013097   0.0015255 ]\n",
      " [ 0.10515816 -0.31928931  0.10515816  0.02036433 -0.38423402  0.08170917]\n",
      " [ 0.02036433  0.10515816 -0.31928931  0.10515816  0.08170917 -0.38423402]]\n"
     ]
    }
   ],
   "source": [
    "print(inf_coef)"
   ]
  },
  {
   "cell_type": "code",
   "execution_count": 26,
   "metadata": {},
   "outputs": [
    {
     "name": "stdout",
     "output_type": "stream",
     "text": [
      "[8.71557427 8.71557427 8.71557427 8.71557427 8.71557427 8.71557427]\n"
     ]
    }
   ],
   "source": [
    "airspeed = 100\n",
    "alpha = 5 * np.pi / 180\n",
    "\n",
    "flow_velocity = np.array([airspeed * np.cos(alpha), 0, airspeed * np.sin(alpha)])\n",
    "z_component = np.dot(flow_velocity, np.array([0, 0, 1]))\n",
    "\n",
    "rhs_vector = np.repeat(z_component, 6)\n",
    "print(rhs_vector)"
   ]
  },
  {
   "cell_type": "code",
   "execution_count": 29,
   "metadata": {},
   "outputs": [
    {
     "name": "stdout",
     "output_type": "stream",
     "text": [
      "[32.97430108 39.32161733 39.32161733 32.97430108 14.65865473 14.65865473]\n"
     ]
    }
   ],
   "source": [
    "gamma = np.linalg.solve(inf_coef, -rhs_vector)\n",
    "print(gamma)"
   ]
  }
 ],
 "metadata": {
  "kernelspec": {
   "display_name": "Python 3",
   "language": "python",
   "name": "python3"
  },
  "language_info": {
   "codemirror_mode": {
    "name": "ipython",
    "version": 3
   },
   "file_extension": ".py",
   "mimetype": "text/x-python",
   "name": "python",
   "nbconvert_exporter": "python",
   "pygments_lexer": "ipython3",
   "version": "3.6.7"
  }
 },
 "nbformat": 4,
 "nbformat_minor": 2
}
